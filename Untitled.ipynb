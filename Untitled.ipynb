{
 "cells": [
  {
   "cell_type": "code",
   "execution_count": null,
   "id": "d09a31a8",
   "metadata": {},
   "outputs": [],
   "source": [
    "dictionary = ''.join(list(open('russian.txt'))).split('\\n')   #подключаем текстовый документ - словарь"
   ]
  },
  {
   "cell_type": "code",
   "execution_count": null,
   "id": "e6c067cb",
   "metadata": {},
   "outputs": [],
   "source": [
    "print(dictionary[:100])"
   ]
  },
  {
   "cell_type": "code",
   "execution_count": null,
   "id": "dec07311",
   "metadata": {},
   "outputs": [],
   "source": [
    "import re    # вводим слово и формируем паттерн и регулярное выражение\n",
    "inp = input()\n",
    "word = '^'\n",
    "for i in range(len(inp)):\n",
    "    word += '[' + inp + ']?'\n",
    "word += '$'\n",
    "prog = re.compile(word)\n",
    "print(word)"
   ]
  },
  {
   "cell_type": "code",
   "execution_count": null,
   "id": "f9010d29",
   "metadata": {},
   "outputs": [],
   "source": [
    "count = 0                    #выводим список слов и подсчитываем их количество\n",
    "for w in dictionary:\n",
    "    if prog.search(w):\n",
    "        count += 1\n",
    "        print(w)\n",
    "print(count)"
   ]
  },
  {
   "cell_type": "markdown",
   "id": "85d033b7",
   "metadata": {},
   "source": []
  },
  {
   "cell_type": "markdown",
   "id": "140ada19",
   "metadata": {},
   "source": []
  }
 ],
 "metadata": {
  "kernelspec": {
   "display_name": "Python 3",
   "language": "python",
   "name": "python3"
  },
  "language_info": {
   "codemirror_mode": {
    "name": "ipython",
    "version": 3
   },
   "file_extension": ".py",
   "mimetype": "text/x-python",
   "name": "python",
   "nbconvert_exporter": "python",
   "pygments_lexer": "ipython3",
   "version": "3.8.8"
  }
 },
 "nbformat": 4,
 "nbformat_minor": 5
}
